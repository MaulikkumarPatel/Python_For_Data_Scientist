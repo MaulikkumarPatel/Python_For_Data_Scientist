{
 "cells": [
  {
   "cell_type": "markdown",
   "id": "90f6ce4b",
   "metadata": {},
   "source": [
    "# Numpy library\n"
   ]
  },
  {
   "cell_type": "code",
   "execution_count": 1,
   "id": "c82f74de",
   "metadata": {},
   "outputs": [
    {
     "data": {
      "text/plain": [
       "array([1, 2, 3, 4, 5])"
      ]
     },
     "execution_count": 1,
     "metadata": {},
     "output_type": "execute_result"
    }
   ],
   "source": [
    "#importing numpy library\n",
    "import numpy as np\n",
    "n = np.array([1,2,3,4,5])\n",
    "n"
   ]
  },
  {
   "cell_type": "code",
   "execution_count": 2,
   "id": "d685ac92",
   "metadata": {},
   "outputs": [
    {
     "data": {
      "text/plain": [
       "numpy.ndarray"
      ]
     },
     "execution_count": 2,
     "metadata": {},
     "output_type": "execute_result"
    }
   ],
   "source": [
    "type(n)"
   ]
  },
  {
   "cell_type": "markdown",
   "id": "cf08376c",
   "metadata": {},
   "source": [
    "# Multidimentional array"
   ]
  },
  {
   "cell_type": "code",
   "execution_count": 3,
   "id": "c2374a0c",
   "metadata": {},
   "outputs": [
    {
     "data": {
      "text/plain": [
       "array([[1, 2, 3],\n",
       "       [4, 5, 6],\n",
       "       [7, 8, 9]])"
      ]
     },
     "execution_count": 3,
     "metadata": {},
     "output_type": "execute_result"
    }
   ],
   "source": [
    "#Here there is an example of 3 dimentional array.\n",
    "list_ = np.array([[1,2,3],[4,5,6],[7,8,9]])\n",
    "list_"
   ]
  },
  {
   "cell_type": "code",
   "execution_count": 4,
   "id": "fb85b4e4",
   "metadata": {},
   "outputs": [
    {
     "data": {
      "text/plain": [
       "(3, 3)"
      ]
     },
     "execution_count": 4,
     "metadata": {},
     "output_type": "execute_result"
    }
   ],
   "source": [
    "list_.shape # if we check the shape of array so it will be 3 columns and 3 rows(3,3)."
   ]
  },
  {
   "cell_type": "code",
   "execution_count": 5,
   "id": "45b1f23e",
   "metadata": {},
   "outputs": [
    {
     "data": {
      "text/plain": [
       "array([ 0,  1,  2,  3,  4,  5,  6,  7,  8,  9, 10])"
      ]
     },
     "execution_count": 5,
     "metadata": {},
     "output_type": "execute_result"
    }
   ],
   "source": [
    "np.arange(0,11) # a range function works same as range function. It will give an output of number range from 0 to 10."
   ]
  },
  {
   "cell_type": "code",
   "execution_count": 6,
   "id": "74b65e54",
   "metadata": {},
   "outputs": [
    {
     "name": "stdout",
     "output_type": "stream",
     "text": [
      "0\n",
      "1\n",
      "2\n",
      "3\n",
      "4\n",
      "5\n",
      "6\n",
      "7\n",
      "8\n",
      "9\n",
      "10\n"
     ]
    }
   ],
   "source": [
    "for i in range(0,11):\n",
    "    print(i)"
   ]
  },
  {
   "cell_type": "code",
   "execution_count": 7,
   "id": "3d00af07",
   "metadata": {},
   "outputs": [
    {
     "data": {
      "text/plain": [
       "array([0., 0., 0., 0., 0., 0., 0., 0., 0., 0., 0., 0., 0., 0., 0., 0., 0.,\n",
       "       0., 0., 0., 0., 0., 0., 0., 0., 0., 0., 0., 0., 0., 0., 0., 0., 0.,\n",
       "       0., 0., 0., 0., 0., 0., 0., 0., 0., 0., 0., 0., 0., 0., 0., 0., 0.,\n",
       "       0., 0., 0., 0., 0., 0., 0., 0., 0., 0., 0., 0., 0., 0., 0., 0., 0.,\n",
       "       0., 0., 0., 0., 0., 0., 0., 0., 0., 0., 0., 0., 0., 0., 0., 0., 0.,\n",
       "       0., 0., 0., 0., 0., 0., 0., 0., 0., 0., 0., 0., 0., 0., 0.])"
      ]
     },
     "execution_count": 7,
     "metadata": {},
     "output_type": "execute_result"
    }
   ],
   "source": [
    "zero = np.zeros(100)\n",
    "zero"
   ]
  },
  {
   "cell_type": "code",
   "execution_count": 8,
   "id": "b2c167ce",
   "metadata": {},
   "outputs": [
    {
     "data": {
      "text/plain": [
       "array([[1., 1., 1.],\n",
       "       [1., 1., 1.],\n",
       "       [1., 1., 1.]])"
      ]
     },
     "execution_count": 8,
     "metadata": {},
     "output_type": "execute_result"
    }
   ],
   "source": [
    "np.ones((3,3))"
   ]
  },
  {
   "cell_type": "code",
   "execution_count": 9,
   "id": "825fa042",
   "metadata": {},
   "outputs": [
    {
     "data": {
      "text/plain": [
       "array([[1., 0., 0., 0., 0., 0., 0., 0., 0., 0.],\n",
       "       [0., 1., 0., 0., 0., 0., 0., 0., 0., 0.],\n",
       "       [0., 0., 1., 0., 0., 0., 0., 0., 0., 0.],\n",
       "       [0., 0., 0., 1., 0., 0., 0., 0., 0., 0.],\n",
       "       [0., 0., 0., 0., 1., 0., 0., 0., 0., 0.],\n",
       "       [0., 0., 0., 0., 0., 1., 0., 0., 0., 0.],\n",
       "       [0., 0., 0., 0., 0., 0., 1., 0., 0., 0.],\n",
       "       [0., 0., 0., 0., 0., 0., 0., 1., 0., 0.],\n",
       "       [0., 0., 0., 0., 0., 0., 0., 0., 1., 0.],\n",
       "       [0., 0., 0., 0., 0., 0., 0., 0., 0., 1.]])"
      ]
     },
     "execution_count": 9,
     "metadata": {},
     "output_type": "execute_result"
    }
   ],
   "source": [
    "a = np.eye(10)\n",
    "a"
   ]
  },
  {
   "cell_type": "code",
   "execution_count": 10,
   "id": "37de518b",
   "metadata": {},
   "outputs": [
    {
     "data": {
      "text/plain": [
       "array([  0,   1,   2,   3,   4,   5,   6,   7,   8,   9,  10,  11,  12,\n",
       "        13,  14,  15,  16,  17,  18,  19,  20,  21,  22,  23,  24,  25,\n",
       "        26,  27,  28,  29,  30,  31,  32,  33,  34,  35,  36,  37,  38,\n",
       "        39,  40,  41,  42,  43,  44,  45,  46,  47,  48,  49,  50,  51,\n",
       "        52,  53,  54,  55,  56,  57,  58,  59,  60,  61,  62,  63,  64,\n",
       "        65,  66,  67,  68,  69,  70,  71,  72,  73,  74,  75,  76,  77,\n",
       "        78,  79,  80,  81,  82,  83,  84,  85,  86,  87,  88,  89,  90,\n",
       "        91,  92,  93,  94,  95,  96,  97,  98,  99, 100])"
      ]
     },
     "execution_count": 10,
     "metadata": {},
     "output_type": "execute_result"
    }
   ],
   "source": [
    "RN = np.arange(0,101)\n",
    "RN"
   ]
  },
  {
   "cell_type": "code",
   "execution_count": 11,
   "id": "ca4a770f",
   "metadata": {},
   "outputs": [
    {
     "data": {
      "text/plain": [
       "101"
      ]
     },
     "execution_count": 11,
     "metadata": {},
     "output_type": "execute_result"
    }
   ],
   "source": [
    "len(RN)"
   ]
  },
  {
   "cell_type": "code",
   "execution_count": 12,
   "id": "2c9b0672",
   "metadata": {},
   "outputs": [
    {
     "data": {
      "text/plain": [
       "array([1.        , 1.66666667, 2.33333333, 3.        , 3.66666667,\n",
       "       4.33333333, 5.        , 5.66666667, 6.33333333, 7.        ])"
      ]
     },
     "execution_count": 12,
     "metadata": {},
     "output_type": "execute_result"
    }
   ],
   "source": [
    "num = np.linspace(1,7,10)\n",
    "num"
   ]
  },
  {
   "cell_type": "code",
   "execution_count": 13,
   "id": "b75ad012",
   "metadata": {},
   "outputs": [
    {
     "data": {
      "text/plain": [
       "10"
      ]
     },
     "execution_count": 13,
     "metadata": {},
     "output_type": "execute_result"
    }
   ],
   "source": [
    "len(num)"
   ]
  },
  {
   "cell_type": "code",
   "execution_count": 14,
   "id": "b623612b",
   "metadata": {},
   "outputs": [],
   "source": [
    "num.resize(5,2) #once we resize the array will change as per the resize values. "
   ]
  },
  {
   "cell_type": "code",
   "execution_count": 15,
   "id": "36b31eb7",
   "metadata": {},
   "outputs": [
    {
     "data": {
      "text/plain": [
       "array([[1.        , 1.66666667],\n",
       "       [2.33333333, 3.        ],\n",
       "       [3.66666667, 4.33333333],\n",
       "       [5.        , 5.66666667],\n",
       "       [6.33333333, 7.        ]])"
      ]
     },
     "execution_count": 15,
     "metadata": {},
     "output_type": "execute_result"
    }
   ],
   "source": [
    " num"
   ]
  },
  {
   "cell_type": "code",
   "execution_count": 16,
   "id": "24c72e7a",
   "metadata": {},
   "outputs": [],
   "source": [
    "n = np.linspace(1,10,12)"
   ]
  },
  {
   "cell_type": "code",
   "execution_count": 17,
   "id": "da1c4c82",
   "metadata": {},
   "outputs": [
    {
     "data": {
      "text/plain": [
       "array([ 1.        ,  1.81818182,  2.63636364,  3.45454545,  4.27272727,\n",
       "        5.09090909,  5.90909091,  6.72727273,  7.54545455,  8.36363636,\n",
       "        9.18181818, 10.        ])"
      ]
     },
     "execution_count": 17,
     "metadata": {},
     "output_type": "execute_result"
    }
   ],
   "source": [
    "n"
   ]
  },
  {
   "cell_type": "code",
   "execution_count": 18,
   "id": "cfd3bf28",
   "metadata": {},
   "outputs": [
    {
     "data": {
      "text/plain": [
       "array([[ 1.        ,  1.81818182],\n",
       "       [ 2.63636364,  3.45454545],\n",
       "       [ 4.27272727,  5.09090909],\n",
       "       [ 5.90909091,  6.72727273],\n",
       "       [ 7.54545455,  8.36363636],\n",
       "       [ 9.18181818, 10.        ]])"
      ]
     },
     "execution_count": 18,
     "metadata": {},
     "output_type": "execute_result"
    }
   ],
   "source": [
    "n.reshape(6,2)"
   ]
  },
  {
   "cell_type": "code",
   "execution_count": 19,
   "id": "64d879c8",
   "metadata": {},
   "outputs": [
    {
     "data": {
      "text/plain": [
       "array([[ 1.        ,  1.81818182],\n",
       "       [ 2.63636364,  3.45454545],\n",
       "       [ 4.27272727,  5.09090909],\n",
       "       [ 5.90909091,  6.72727273],\n",
       "       [ 7.54545455,  8.36363636],\n",
       "       [ 9.18181818, 10.        ]])"
      ]
     },
     "execution_count": 19,
     "metadata": {},
     "output_type": "execute_result"
    }
   ],
   "source": [
    "#once we reshape the array it will change the array temporary. \n",
    "#If you want to save that then you need make a new variable and then assign the value.\n",
    "new_n = n.reshape(6,2)\n",
    "new_n"
   ]
  },
  {
   "cell_type": "markdown",
   "id": "706b20fc",
   "metadata": {},
   "source": [
    "# Generate some random values"
   ]
  },
  {
   "cell_type": "code",
   "execution_count": 20,
   "id": "c131aea9",
   "metadata": {},
   "outputs": [
    {
     "data": {
      "text/plain": [
       "array([[0.45535819, 0.09143349, 0.62973238, 0.98662937, 0.27674628],\n",
       "       [0.72940788, 0.09805703, 0.49985123, 0.55615451, 0.06936169],\n",
       "       [0.65088534, 0.35199692, 0.42761895, 0.76249686, 0.04331129],\n",
       "       [0.82770382, 0.71681082, 0.28790872, 0.30228242, 0.76550244],\n",
       "       [0.27004256, 0.9155111 , 0.93411262, 0.14408459, 0.39985739]])"
      ]
     },
     "execution_count": 20,
     "metadata": {},
     "output_type": "execute_result"
    }
   ],
   "source": [
    "#It will generate random vales,if you don't save in variable it will keep changing.\n",
    "np.random.rand(5,5)"
   ]
  },
  {
   "cell_type": "code",
   "execution_count": 21,
   "id": "db71cb35",
   "metadata": {},
   "outputs": [
    {
     "data": {
      "text/plain": [
       "array([[-0.29752931, -1.0487719 ,  0.01828532, -0.14717767,  0.4590518 ],\n",
       "       [-0.28409934,  1.19762625, -0.6924812 , -0.08935537,  1.15709033],\n",
       "       [-0.01557493,  0.53806158, -1.89999351, -0.62704095,  1.75983276],\n",
       "       [-0.24151677, -0.13176028,  0.68864405, -0.55318479, -1.93548306],\n",
       "       [ 0.32711344, -0.38650518, -0.50457336,  1.34698998, -0.56487797]])"
      ]
     },
     "execution_count": 21,
     "metadata": {},
     "output_type": "execute_result"
    }
   ],
   "source": [
    "# It will return a sample from the 'standard normal' distribution.\n",
    "a = np.random.randn(5,5)\n",
    "a"
   ]
  },
  {
   "cell_type": "code",
   "execution_count": 22,
   "id": "599ab426",
   "metadata": {},
   "outputs": [
    {
     "data": {
      "text/plain": [
       "array([6, 8, 1, 6, 8, 1, 4, 4, 1, 8, 9, 5, 6, 1, 5])"
      ]
     },
     "execution_count": 22,
     "metadata": {},
     "output_type": "execute_result"
    }
   ],
   "source": [
    "#It will generate a number from given values\n",
    "b = np.random.randint(1,10,15)\n",
    "b"
   ]
  },
  {
   "cell_type": "code",
   "execution_count": 23,
   "id": "ce84e4ca",
   "metadata": {},
   "outputs": [
    {
     "data": {
      "text/plain": [
       "15"
      ]
     },
     "execution_count": 23,
     "metadata": {},
     "output_type": "execute_result"
    }
   ],
   "source": [
    "len(b)"
   ]
  },
  {
   "cell_type": "code",
   "execution_count": 24,
   "id": "2a888b03",
   "metadata": {},
   "outputs": [
    {
     "data": {
      "text/plain": [
       "array([[6, 8, 1, 6, 8],\n",
       "       [1, 4, 4, 1, 8],\n",
       "       [9, 5, 6, 1, 5]])"
      ]
     },
     "execution_count": 24,
     "metadata": {},
     "output_type": "execute_result"
    }
   ],
   "source": [
    "b.reshape(3,5)"
   ]
  },
  {
   "cell_type": "code",
   "execution_count": 25,
   "id": "0e1d09f8",
   "metadata": {},
   "outputs": [
    {
     "data": {
      "text/plain": [
       "array([[6, 2, 2, 2, 7],\n",
       "       [3, 3, 1, 3, 9],\n",
       "       [2, 3, 2, 8, 7],\n",
       "       [3, 4, 6, 3, 2]])"
      ]
     },
     "execution_count": 25,
     "metadata": {},
     "output_type": "execute_result"
    }
   ],
   "source": [
    "#easy way to do it\n",
    "c = np.random.randint(1,10,(4,5))\n",
    "c"
   ]
  },
  {
   "cell_type": "markdown",
   "id": "83b7e8eb",
   "metadata": {},
   "source": [
    "# Indexing and Slicing"
   ]
  },
  {
   "cell_type": "code",
   "execution_count": 26,
   "id": "2a74ea95",
   "metadata": {},
   "outputs": [
    {
     "data": {
      "text/plain": [
       "array([19,  9,  9, 13,  9,  1,  9, 13,  5,  5,  3, 13, 16,  4,  5])"
      ]
     },
     "execution_count": 26,
     "metadata": {},
     "output_type": "execute_result"
    }
   ],
   "source": [
    "d = np.random.randint(1,20,15)\n",
    "d"
   ]
  },
  {
   "cell_type": "code",
   "execution_count": 27,
   "id": "8b8e27e0",
   "metadata": {},
   "outputs": [
    {
     "data": {
      "text/plain": [
       "19"
      ]
     },
     "execution_count": 27,
     "metadata": {},
     "output_type": "execute_result"
    }
   ],
   "source": [
    "d[0]"
   ]
  },
  {
   "cell_type": "code",
   "execution_count": 28,
   "id": "95edf987",
   "metadata": {},
   "outputs": [
    {
     "data": {
      "text/plain": [
       "5"
      ]
     },
     "execution_count": 28,
     "metadata": {},
     "output_type": "execute_result"
    }
   ],
   "source": [
    "d[-1]"
   ]
  },
  {
   "cell_type": "code",
   "execution_count": 29,
   "id": "aaf2b7e8",
   "metadata": {},
   "outputs": [
    {
     "data": {
      "text/plain": [
       "array([19,  9,  9, 13])"
      ]
     },
     "execution_count": 29,
     "metadata": {},
     "output_type": "execute_result"
    }
   ],
   "source": [
    "d[:4]"
   ]
  },
  {
   "cell_type": "code",
   "execution_count": 30,
   "id": "ebf654d1",
   "metadata": {},
   "outputs": [
    {
     "data": {
      "text/plain": [
       "array([13,  9,  1,  9, 13,  5,  5,  3, 13, 16,  4,  5])"
      ]
     },
     "execution_count": 30,
     "metadata": {},
     "output_type": "execute_result"
    }
   ],
   "source": [
    "d[3:]"
   ]
  },
  {
   "cell_type": "code",
   "execution_count": 31,
   "id": "6777b0c9",
   "metadata": {},
   "outputs": [
    {
     "data": {
      "text/plain": [
       "array([ 3, 13, 16])"
      ]
     },
     "execution_count": 31,
     "metadata": {},
     "output_type": "execute_result"
    }
   ],
   "source": [
    "d[10:-2]"
   ]
  },
  {
   "cell_type": "code",
   "execution_count": 32,
   "id": "7fbac145",
   "metadata": {},
   "outputs": [
    {
     "data": {
      "text/plain": [
       "array([ 0,  1,  2,  3,  4,  5,  6,  7,  8,  9, 10, 11, 12, 13, 14, 15, 16,\n",
       "       17, 18, 19, 20, 21, 22, 23, 24, 25, 26, 27, 28, 29, 30, 31, 32, 33,\n",
       "       34, 35, 36, 37, 38, 39, 40, 41, 42, 43, 44, 45, 46, 47, 48, 49, 50,\n",
       "       51, 52, 53, 54, 55, 56, 57, 58, 59, 60, 61, 62, 63])"
      ]
     },
     "execution_count": 32,
     "metadata": {},
     "output_type": "execute_result"
    }
   ],
   "source": [
    "e = np.arange(64)\n",
    "e"
   ]
  },
  {
   "cell_type": "code",
   "execution_count": 33,
   "id": "275d202a",
   "metadata": {},
   "outputs": [],
   "source": [
    "e.resize(8,8)"
   ]
  },
  {
   "cell_type": "code",
   "execution_count": 34,
   "id": "1624ea71",
   "metadata": {},
   "outputs": [
    {
     "data": {
      "text/plain": [
       "array([[ 0,  1,  2,  3,  4,  5,  6,  7],\n",
       "       [ 8,  9, 10, 11, 12, 13, 14, 15],\n",
       "       [16, 17, 18, 19, 20, 21, 22, 23],\n",
       "       [24, 25, 26, 27, 28, 29, 30, 31],\n",
       "       [32, 33, 34, 35, 36, 37, 38, 39],\n",
       "       [40, 41, 42, 43, 44, 45, 46, 47],\n",
       "       [48, 49, 50, 51, 52, 53, 54, 55],\n",
       "       [56, 57, 58, 59, 60, 61, 62, 63]])"
      ]
     },
     "execution_count": 34,
     "metadata": {},
     "output_type": "execute_result"
    }
   ],
   "source": [
    "e"
   ]
  },
  {
   "cell_type": "code",
   "execution_count": 35,
   "id": "c80669ec",
   "metadata": {},
   "outputs": [
    {
     "data": {
      "text/plain": [
       "20"
      ]
     },
     "execution_count": 35,
     "metadata": {},
     "output_type": "execute_result"
    }
   ],
   "source": [
    "e[2,4]"
   ]
  },
  {
   "cell_type": "code",
   "execution_count": 36,
   "id": "fa200a25",
   "metadata": {},
   "outputs": [
    {
     "data": {
      "text/plain": [
       "array([57, 58, 59, 60, 61])"
      ]
     },
     "execution_count": 36,
     "metadata": {},
     "output_type": "execute_result"
    }
   ],
   "source": [
    "e[7,1:6]"
   ]
  },
  {
   "cell_type": "code",
   "execution_count": 37,
   "id": "73c5673a",
   "metadata": {},
   "outputs": [
    {
     "data": {
      "text/plain": [
       "array([[16, 17, 18, 19, 20, 21, 22, 23],\n",
       "       [24, 25, 26, 27, 28, 29, 30, 31],\n",
       "       [32, 33, 34, 35, 36, 37, 38, 39],\n",
       "       [40, 41, 42, 43, 44, 45, 46, 47],\n",
       "       [48, 49, 50, 51, 52, 53, 54, 55],\n",
       "       [56, 57, 58, 59, 60, 61, 62, 63]])"
      ]
     },
     "execution_count": 37,
     "metadata": {},
     "output_type": "execute_result"
    }
   ],
   "source": [
    "e[2:]"
   ]
  },
  {
   "cell_type": "code",
   "execution_count": 38,
   "id": "e8c822bc",
   "metadata": {},
   "outputs": [
    {
     "data": {
      "text/plain": [
       "array([[27, 28, 29, 30, 31],\n",
       "       [35, 36, 37, 38, 39],\n",
       "       [43, 44, 45, 46, 47],\n",
       "       [51, 52, 53, 54, 55],\n",
       "       [59, 60, 61, 62, 63]])"
      ]
     },
     "execution_count": 38,
     "metadata": {},
     "output_type": "execute_result"
    }
   ],
   "source": [
    "e[3:,3:]"
   ]
  },
  {
   "cell_type": "code",
   "execution_count": 39,
   "id": "131127da",
   "metadata": {},
   "outputs": [
    {
     "data": {
      "text/plain": [
       "array([[ 0,  1,  2],\n",
       "       [ 8,  9, 10],\n",
       "       [16, 17, 18]])"
      ]
     },
     "execution_count": 39,
     "metadata": {},
     "output_type": "execute_result"
    }
   ],
   "source": [
    "e[:3,:3]"
   ]
  },
  {
   "cell_type": "code",
   "execution_count": 50,
   "id": "210633f8",
   "metadata": {},
   "outputs": [
    {
     "data": {
      "text/plain": [
       "array([ 0,  1,  2,  3,  4,  5,  6,  7,  8,  9, 10, 11, 12, 13, 14, 15, 16,\n",
       "       17, 18, 19, 20, 21, 22, 23, 24, 25, 26, 27, 28, 29, 30, 31, 32, 33,\n",
       "       34, 35, 36, 37, 38, 39, 40, 41, 42, 43, 44, 45, 46, 47, 48, 49])"
      ]
     },
     "execution_count": 50,
     "metadata": {},
     "output_type": "execute_result"
    }
   ],
   "source": [
    "e[e<50]"
   ]
  },
  {
   "cell_type": "code",
   "execution_count": 51,
   "id": "0b985672",
   "metadata": {},
   "outputs": [
    {
     "data": {
      "text/plain": [
       "array([[ True,  True,  True,  True,  True,  True,  True,  True],\n",
       "       [ True,  True,  True,  True,  True,  True,  True,  True],\n",
       "       [ True,  True,  True,  True,  True,  True,  True,  True],\n",
       "       [ True,  True,  True,  True,  True,  True,  True,  True],\n",
       "       [ True,  True,  True,  True,  True,  True,  True,  True],\n",
       "       [ True,  True,  True,  True,  True,  True,  True,  True],\n",
       "       [ True,  True, False, False, False, False, False, False],\n",
       "       [False, False, False, False, False, False, False, False]])"
      ]
     },
     "execution_count": 51,
     "metadata": {},
     "output_type": "execute_result"
    }
   ],
   "source": [
    "e<50"
   ]
  },
  {
   "cell_type": "code",
   "execution_count": 52,
   "id": "2b62e764",
   "metadata": {},
   "outputs": [
    {
     "data": {
      "text/plain": [
       "array([[ 0,  1,  2,  3,  4,  5,  6,  7],\n",
       "       [ 8,  9, 10, 11, 12, 13, 14, 15],\n",
       "       [16, 17, 18, 19, 20, 21, 22, 23],\n",
       "       [24, 25, 25, 25, 25, 25, 25, 25],\n",
       "       [25, 25, 25, 25, 25, 25, 25, 25],\n",
       "       [25, 25, 25, 25, 25, 25, 25, 25],\n",
       "       [25, 25, 25, 25, 25, 25, 25, 25],\n",
       "       [25, 25, 25, 25, 25, 25, 25, 25]])"
      ]
     },
     "execution_count": 52,
     "metadata": {},
     "output_type": "execute_result"
    }
   ],
   "source": [
    "e[e>25]=25\n",
    "e"
   ]
  },
  {
   "cell_type": "code",
   "execution_count": 53,
   "id": "a782e4c1",
   "metadata": {},
   "outputs": [
    {
     "data": {
      "text/plain": [
       "array([12, 20, 25, 25, 25, 25, 25])"
      ]
     },
     "execution_count": 53,
     "metadata": {},
     "output_type": "execute_result"
    }
   ],
   "source": [
    "e[1:,4]"
   ]
  },
  {
   "cell_type": "markdown",
   "id": "5c325c05",
   "metadata": {},
   "source": [
    "# Create a copy of original dataset\n",
    "    So by using this function we have created a copy of original dataset,so later we can do experimental work on that copied  dataset.\n"
   ]
  },
  {
   "cell_type": "code",
   "execution_count": 57,
   "id": "7d51ac17",
   "metadata": {},
   "outputs": [],
   "source": [
    "\n",
    "e_new_copy = e.copy()"
   ]
  },
  {
   "cell_type": "code",
   "execution_count": 58,
   "id": "d545e7e7",
   "metadata": {},
   "outputs": [
    {
     "data": {
      "text/plain": [
       "array([[ 0,  1,  2,  3,  4,  5,  6,  7],\n",
       "       [ 8,  9, 10, 11, 12, 13, 14, 15],\n",
       "       [16, 17, 18, 19, 20, 21, 22, 23],\n",
       "       [24, 25, 25, 25, 25, 25, 25, 25],\n",
       "       [25, 25, 25, 25, 25, 25, 25, 25],\n",
       "       [25, 25, 25, 25, 25, 25, 25, 25],\n",
       "       [25, 25, 25, 25, 25, 25, 25, 25],\n",
       "       [25, 25, 25, 25, 25, 25, 25, 25]])"
      ]
     },
     "execution_count": 58,
     "metadata": {},
     "output_type": "execute_result"
    }
   ],
   "source": [
    "e_new_copy"
   ]
  },
  {
   "cell_type": "code",
   "execution_count": 59,
   "id": "740c6736",
   "metadata": {},
   "outputs": [
    {
     "data": {
      "text/plain": [
       "25"
      ]
     },
     "execution_count": 59,
     "metadata": {},
     "output_type": "execute_result"
    }
   ],
   "source": [
    "e_new_copy[3,3]"
   ]
  },
  {
   "cell_type": "code",
   "execution_count": 60,
   "id": "415d9f0d",
   "metadata": {},
   "outputs": [
    {
     "data": {
      "text/plain": [
       "array([[ 0,  1,  2],\n",
       "       [ 8,  9, 10],\n",
       "       [16, 17, 18]])"
      ]
     },
     "execution_count": 60,
     "metadata": {},
     "output_type": "execute_result"
    }
   ],
   "source": [
    "e_new_copy[:3,:3]"
   ]
  },
  {
   "cell_type": "code",
   "execution_count": 61,
   "id": "4c2ff70c",
   "metadata": {},
   "outputs": [],
   "source": [
    "e_new_copy[e_new_copy > 5] = 10"
   ]
  },
  {
   "cell_type": "code",
   "execution_count": 62,
   "id": "60b89109",
   "metadata": {},
   "outputs": [
    {
     "data": {
      "text/plain": [
       "array([[ 0,  1,  2,  3,  4,  5, 10, 10],\n",
       "       [10, 10, 10, 10, 10, 10, 10, 10],\n",
       "       [10, 10, 10, 10, 10, 10, 10, 10],\n",
       "       [10, 10, 10, 10, 10, 10, 10, 10],\n",
       "       [10, 10, 10, 10, 10, 10, 10, 10],\n",
       "       [10, 10, 10, 10, 10, 10, 10, 10],\n",
       "       [10, 10, 10, 10, 10, 10, 10, 10],\n",
       "       [10, 10, 10, 10, 10, 10, 10, 10]])"
      ]
     },
     "execution_count": 62,
     "metadata": {},
     "output_type": "execute_result"
    }
   ],
   "source": [
    "e_new_copy"
   ]
  },
  {
   "cell_type": "code",
   "execution_count": 63,
   "id": "31425300",
   "metadata": {},
   "outputs": [
    {
     "data": {
      "text/plain": [
       "array([[10, 10, 10, 10, 10],\n",
       "       [10, 10, 10, 10, 10],\n",
       "       [10, 10, 10, 10, 10],\n",
       "       [10, 10, 10, 10, 10],\n",
       "       [10, 10, 10, 10, 10]])"
      ]
     },
     "execution_count": 63,
     "metadata": {},
     "output_type": "execute_result"
    }
   ],
   "source": [
    "e_new_copy[3:,3:]"
   ]
  },
  {
   "cell_type": "markdown",
   "id": "09b6ea61",
   "metadata": {},
   "source": [
    "# Numpy_Exercises\n",
    "1. Import NumPy Library as np\n",
    "\n",
    "2. Create an array of integers starting from 15 to 40 and store it in a variable called array1\n",
    "\n",
    "2.1. Create a second array of integers starting from 10 until 25 and store it in a variable called array2\n",
    "\n",
    "2.2. What is the difference between the two arrays?\n",
    "\n",
    "3. Create an array of all even integers from 2 to 20 and name it even_aaray1\n",
    "\n",
    "3.1. Create an array of all even integers from 34 to 42 and name it even_array2\n",
    "\n",
    "3.2. Create a matrix of the two arrays using the stack function\n",
    "\n",
    "4. Create a 6×6 matrix with values ranging from 0 to 36 and retrieve the intersection of the 3rd row and 2nd column\n",
    "\n",
    "4.1. Create a 5×2 matrix from a standard normal distribution generated with python.\n",
    "\n",
    "4.2. Retrieve the value intersecting the last row and the last column of your matrix\n",
    "\n",
    "5. Using your matrix created at 4.1, calculate the following:\n",
    "\n",
    "   a. minimum of the matrix\n",
    "\n",
    "   b. maximum of the matrix\n",
    "\n",
    "   c. standard deviation of the matrix\n",
    "\n",
    "  d. variance of the matrix\n",
    "\n",
    "  e. mean of the matrix"
   ]
  },
  {
   "cell_type": "markdown",
   "id": "db5efb99",
   "metadata": {},
   "source": [
    "# Solution"
   ]
  },
  {
   "cell_type": "code",
   "execution_count": 104,
   "id": "7b54099c",
   "metadata": {},
   "outputs": [],
   "source": [
    "#Import NumPy Library as np\n",
    "import numpy as np "
   ]
  },
  {
   "cell_type": "code",
   "execution_count": 67,
   "id": "7a48c752",
   "metadata": {},
   "outputs": [],
   "source": [
    "#Create an array of integers starting from 15 to 40 and store it in a variable called array1\n",
    "array1 = np.arange(15,40)"
   ]
  },
  {
   "cell_type": "code",
   "execution_count": 68,
   "id": "04ab5f12",
   "metadata": {},
   "outputs": [
    {
     "data": {
      "text/plain": [
       "array([15, 16, 17, 18, 19, 20, 21, 22, 23, 24, 25, 26, 27, 28, 29, 30, 31,\n",
       "       32, 33, 34, 35, 36, 37, 38, 39])"
      ]
     },
     "execution_count": 68,
     "metadata": {},
     "output_type": "execute_result"
    }
   ],
   "source": [
    "array1"
   ]
  },
  {
   "cell_type": "code",
   "execution_count": 71,
   "id": "93b56949",
   "metadata": {},
   "outputs": [],
   "source": [
    "#Create a second array of integers starting from 10 until 25 and store it in a variable called array2\n",
    "array2 = np.arange(10,26)"
   ]
  },
  {
   "cell_type": "code",
   "execution_count": 72,
   "id": "6d28d060",
   "metadata": {},
   "outputs": [
    {
     "data": {
      "text/plain": [
       "array([10, 11, 12, 13, 14, 15, 16, 17, 18, 19, 20, 21, 22, 23, 24, 25])"
      ]
     },
     "execution_count": 72,
     "metadata": {},
     "output_type": "execute_result"
    }
   ],
   "source": [
    "array2"
   ]
  },
  {
   "cell_type": "code",
   "execution_count": 73,
   "id": "74029fc9",
   "metadata": {},
   "outputs": [],
   "source": [
    "#What is the difference between the two arrays?\n",
    "\n",
    "# array1 will generate values from 15 to 39 and 40th value will be excluded because in python index start from 0.\n",
    "# array2 will generate values from 10 to 25."
   ]
  },
  {
   "cell_type": "code",
   "execution_count": 74,
   "id": "1a4806c2",
   "metadata": {},
   "outputs": [
    {
     "data": {
      "text/plain": [
       "array([ 2,  4,  6,  8, 10, 12, 14, 16, 18])"
      ]
     },
     "execution_count": 74,
     "metadata": {},
     "output_type": "execute_result"
    }
   ],
   "source": [
    "# Create an array of all even integers from 2 to 20 and name it even_aaray1\n",
    "even_aaray1 = np.arange(2,20,2)\n",
    "even_aaray1"
   ]
  },
  {
   "cell_type": "code",
   "execution_count": 75,
   "id": "40965a90",
   "metadata": {},
   "outputs": [
    {
     "data": {
      "text/plain": [
       "array([34, 36, 38, 40])"
      ]
     },
     "execution_count": 75,
     "metadata": {},
     "output_type": "execute_result"
    }
   ],
   "source": [
    "# Create an array of all even integers from 34 to 42 and name it even_array2\n",
    "even_array2 = np.arange(34,42,2)\n",
    "even_array2"
   ]
  },
  {
   "cell_type": "code",
   "execution_count": 82,
   "id": "28904f38",
   "metadata": {},
   "outputs": [
    {
     "data": {
      "text/plain": [
       "array([[1, 2, 3],\n",
       "       [4, 5, 6]])"
      ]
     },
     "execution_count": 82,
     "metadata": {},
     "output_type": "execute_result"
    }
   ],
   "source": [
    "# Create a matrix of the two arrays using the stack function\n",
    "a = np.arange(1,4)\n",
    "b = np.arange(4,7)\n",
    "\n",
    "c = np.stack((a,b))\n",
    "\n",
    "c"
   ]
  },
  {
   "cell_type": "code",
   "execution_count": 90,
   "id": "781809a8",
   "metadata": {},
   "outputs": [
    {
     "data": {
      "text/plain": [
       "array([[ 0,  1,  2,  3,  4,  5],\n",
       "       [ 6,  7,  8,  9, 10, 11],\n",
       "       [12, 13, 14, 15, 16, 17],\n",
       "       [18, 19, 20, 21, 22, 23],\n",
       "       [24, 25, 26, 27, 28, 29],\n",
       "       [30, 31, 32, 33, 34, 35]])"
      ]
     },
     "execution_count": 90,
     "metadata": {},
     "output_type": "execute_result"
    }
   ],
   "source": [
    "# Create a 6×6 matrix with values ranging from 0 to 36 and retrieve the intersection of the 3rd row and 2nd column\n",
    "mat_6 = np.arange(0,36)\n",
    "mat_6.resize(6,6)\n",
    "mat_6"
   ]
  },
  {
   "cell_type": "code",
   "execution_count": 91,
   "id": "752b09f8",
   "metadata": {},
   "outputs": [
    {
     "data": {
      "text/plain": [
       "20"
      ]
     },
     "execution_count": 91,
     "metadata": {},
     "output_type": "execute_result"
    }
   ],
   "source": [
    "mat_6[3,2]"
   ]
  },
  {
   "cell_type": "code",
   "execution_count": 94,
   "id": "40aaf071",
   "metadata": {},
   "outputs": [
    {
     "data": {
      "text/plain": [
       "array([[ 0.99055421, -0.5412457 ],\n",
       "       [ 0.63611148, -0.41181944],\n",
       "       [-0.58372223,  0.3874521 ],\n",
       "       [ 0.43671237, -1.49937691],\n",
       "       [-0.67254349,  0.82225769]])"
      ]
     },
     "execution_count": 94,
     "metadata": {},
     "output_type": "execute_result"
    }
   ],
   "source": [
    "# Create a 5×2 matrix from a standard normal distribution generated with python.\n",
    "std_nm = np.random.randn(5,2)\n",
    "std_nm"
   ]
  },
  {
   "cell_type": "code",
   "execution_count": 96,
   "id": "2f1e02bd",
   "metadata": {},
   "outputs": [
    {
     "data": {
      "text/plain": [
       "0.8222576922121065"
      ]
     },
     "execution_count": 96,
     "metadata": {},
     "output_type": "execute_result"
    }
   ],
   "source": [
    "# Retrieve the value intersecting the last row and the last column of your matrix\n",
    "std_nm[-1,-1]"
   ]
  },
  {
   "cell_type": "code",
   "execution_count": 97,
   "id": "890efbb3",
   "metadata": {},
   "outputs": [],
   "source": [
    "#Using your matrix created at 4.1, calculate the following:\n",
    "#     a. minimum of the matrix\n",
    "#     b. maximum of the matrix\n",
    "#     c. standard deviation of the matrix\n",
    "#     d. variance of the matrix\n",
    "#     e. mean of the matrix"
   ]
  },
  {
   "cell_type": "code",
   "execution_count": 99,
   "id": "49033ee5",
   "metadata": {},
   "outputs": [
    {
     "data": {
      "text/plain": [
       "-1.4993769146323388"
      ]
     },
     "execution_count": 99,
     "metadata": {},
     "output_type": "execute_result"
    }
   ],
   "source": [
    "#  a. minimum of the matrix\n",
    "std_nm.min()"
   ]
  },
  {
   "cell_type": "code",
   "execution_count": 100,
   "id": "c39606f0",
   "metadata": {},
   "outputs": [
    {
     "data": {
      "text/plain": [
       "0.9905542112429928"
      ]
     },
     "execution_count": 100,
     "metadata": {},
     "output_type": "execute_result"
    }
   ],
   "source": [
    "# b. maximum of the matrix\n",
    "std_nm.max()"
   ]
  },
  {
   "cell_type": "code",
   "execution_count": 101,
   "id": "8d88e098",
   "metadata": {},
   "outputs": [
    {
     "data": {
      "text/plain": [
       "0.7673019752720552"
      ]
     },
     "execution_count": 101,
     "metadata": {},
     "output_type": "execute_result"
    }
   ],
   "source": [
    "# c. standard deviation of the matrix\n",
    "std_nm.std()"
   ]
  },
  {
   "cell_type": "code",
   "execution_count": 102,
   "id": "08cac1ec",
   "metadata": {},
   "outputs": [
    {
     "data": {
      "text/plain": [
       "0.5887523212563976"
      ]
     },
     "execution_count": 102,
     "metadata": {},
     "output_type": "execute_result"
    }
   ],
   "source": [
    "# d. variance of the matrix\n",
    "std_nm.var()"
   ]
  },
  {
   "cell_type": "code",
   "execution_count": 103,
   "id": "26b8b1fa",
   "metadata": {},
   "outputs": [
    {
     "data": {
      "text/plain": [
       "-0.043561990812213236"
      ]
     },
     "execution_count": 103,
     "metadata": {},
     "output_type": "execute_result"
    }
   ],
   "source": [
    "# e. mean of the matrix\n",
    "std_nm.mean()"
   ]
  },
  {
   "cell_type": "code",
   "execution_count": null,
   "id": "eeb53c59",
   "metadata": {},
   "outputs": [],
   "source": []
  }
 ],
 "metadata": {
  "kernelspec": {
   "display_name": "Python 3 (ipykernel)",
   "language": "python",
   "name": "python3"
  },
  "language_info": {
   "codemirror_mode": {
    "name": "ipython",
    "version": 3
   },
   "file_extension": ".py",
   "mimetype": "text/x-python",
   "name": "python",
   "nbconvert_exporter": "python",
   "pygments_lexer": "ipython3",
   "version": "3.9.13"
  }
 },
 "nbformat": 4,
 "nbformat_minor": 5
}
